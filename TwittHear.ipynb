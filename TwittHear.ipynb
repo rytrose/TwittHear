{
 "cells": [
  {
   "cell_type": "code",
   "execution_count": 1,
   "metadata": {
    "collapsed": true
   },
   "outputs": [],
   "source": [
    "import twitthear\n",
    "alexaThread = twitthear.AlexaThread()\n",
    "alexaThread.start()"
   ]
  },
  {
   "cell_type": "code",
   "execution_count": 15,
   "metadata": {},
   "outputs": [
    {
     "name": "stdout",
     "output_type": "stream",
     "text": [
      "Tweet with id #940993748879757313 not found.\n",
      "Saved tweet phrase: 940993748879757313.txt for Tweet #940993748879757313\n",
      "Tweet with id #940630363180806144 not found.\n",
      "Saved tweet phrase: 940630363180806144.txt for Tweet #940630363180806144\n",
      "Tweet with id #940703585427267584 not found.\n",
      "Saved tweet phrase: 940703585427267584.txt for Tweet #940703585427267584\n",
      "Tweet with id #941105848268369920 not found.\n",
      "Saved tweet phrase: 941105848268369920.txt for Tweet #941105848268369920\n",
      "Tweet with id #941105845932298240 not found.\n",
      "Saved tweet phrase: 941105845932298240.txt for Tweet #941105845932298240\n"
     ]
    }
   ],
   "source": [
    "alexaThread.twitthear.getTweets(\"search\", \"dog\")"
   ]
  },
  {
   "cell_type": "code",
   "execution_count": null,
   "metadata": {},
   "outputs": [],
   "source": [
    "alexaThread.twitthear.forward()"
   ]
  },
  {
   "cell_type": "code",
   "execution_count": null,
   "metadata": {
    "collapsed": true
   },
   "outputs": [],
   "source": [
    "alexaThread.twitthear.back()"
   ]
  },
  {
   "cell_type": "code",
   "execution_count": null,
   "metadata": {
    "collapsed": true
   },
   "outputs": [],
   "source": [
    "alexaThread.twitthear.saveTweet()"
   ]
  },
  {
   "cell_type": "code",
   "execution_count": 18,
   "metadata": {},
   "outputs": [],
   "source": [
    "alexaThread.twitthear.pause()"
   ]
  },
  {
   "cell_type": "code",
   "execution_count": 17,
   "metadata": {},
   "outputs": [
    {
     "name": "stdout",
     "output_type": "stream",
     "text": [
      "Tweet with id #941105845647142914 not found.\n",
      "Saved tweet phrase: 941105845647142914.txt for Tweet #941105845647142914\n"
     ]
    }
   ],
   "source": [
    "alexaThread.twitthear.resume()"
   ]
  },
  {
   "cell_type": "code",
   "execution_count": null,
   "metadata": {
    "collapsed": true
   },
   "outputs": [],
   "source": [
    "alexaThread.twitthear.tweetIndex"
   ]
  },
  {
   "cell_type": "code",
   "execution_count": null,
   "metadata": {
    "collapsed": true
   },
   "outputs": [],
   "source": [
    "alexaThread.twitthear.tweets[4]"
   ]
  },
  {
   "cell_type": "code",
   "execution_count": null,
   "metadata": {
    "collapsed": true
   },
   "outputs": [],
   "source": []
  }
 ],
 "metadata": {
  "kernelspec": {
   "display_name": "Python [conda env:twitthear]",
   "language": "python",
   "name": "conda-env-twitthear-py"
  },
  "language_info": {
   "codemirror_mode": {
    "name": "ipython",
    "version": 2
   },
   "file_extension": ".py",
   "mimetype": "text/x-python",
   "name": "python",
   "nbconvert_exporter": "python",
   "pygments_lexer": "ipython2",
   "version": "2.7.13"
  }
 },
 "nbformat": 4,
 "nbformat_minor": 2
}
