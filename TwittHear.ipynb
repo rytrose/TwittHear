{
 "cells": [
  {
   "cell_type": "code",
   "execution_count": 1,
   "metadata": {},
   "outputs": [],
   "source": [
    "import twitthear\n",
    "alexaThread = twitthear.AlexaThread()\n",
    "alexaThread.start()"
   ]
  },
  {
   "cell_type": "code",
   "execution_count": 7,
   "metadata": {},
   "outputs": [
    {
     "name": "stdout",
     "output_type": "stream",
     "text": [
      "Tweet with id #935519766021857280 not found.\n",
      "935519766021857300.txt\n",
      "Updated tweet phrase: 935519766021857300.txt for Tweet #935519766021857300\n",
      "Tweet with id #935519700628492289 not found.\n",
      "935519700628492300.txt\n",
      "Updated tweet phrase: 935519700628492300.txt for Tweet #935519700628492300\n",
      "Tweet with id #935519070945972224 not found.\n",
      "935519070945972200.txt\n",
      "Updated tweet phrase: 935519070945972200.txt for Tweet #935519070945972200\n",
      "Tweet with id #935518815156424704 not found.\n",
      "935518815156424700.txt\n",
      "Updated tweet phrase: 935518815156424700.txt for Tweet #935518815156424700\n"
     ]
    }
   ],
   "source": [
    "alexaThread.twitthear.getTweets(\"timeline\")"
   ]
  },
  {
   "cell_type": "code",
   "execution_count": 24,
   "metadata": {},
   "outputs": [
    {
     "name": "stdout",
     "output_type": "stream",
     "text": [
      "\n",
      "Tweet with id #935519070945972224 not found.\n",
      "935519070945972200.txt\n",
      "Updated tweet phrase: 935519070945972200.txt for Tweet #935519070945972200\n",
      "Tweet with id #935518815156424704 not found.\n",
      "935518815156424700.txt\n",
      "Updated tweet phrase: 935518815156424700.txt for Tweet #935518815156424700\n",
      "Tweet with id #935518733107384320 not found.\n",
      "935518733107384300.txt\n",
      "Updated tweet phrase: 935518733107384300.txt for Tweet #935518733107384300\n",
      "Tweet with id #935517445128904705 not found.\n",
      "935517445128904700.txt\n",
      "Updated tweet phrase: 935517445128904700.txt for Tweet #935517445128904700\n",
      "Tweet with id #935517403848491008 not found.\n",
      "935517403848491000.txt\n",
      "Updated tweet phrase: 935517403848491000.txt for Tweet #935517403848491000\n"
     ]
    }
   ],
   "source": [
    "alexaThread.twitthear.back()"
   ]
  },
  {
   "cell_type": "code",
   "execution_count": null,
   "metadata": {
    "collapsed": true
   },
   "outputs": [],
   "source": []
  }
 ],
 "metadata": {
  "kernelspec": {
   "display_name": "Python [conda env:twitthear]",
   "language": "python",
   "name": "conda-env-twitthear-py"
  },
  "language_info": {
   "codemirror_mode": {
    "name": "ipython",
    "version": 2
   },
   "file_extension": ".py",
   "mimetype": "text/x-python",
   "name": "python",
   "nbconvert_exporter": "python",
   "pygments_lexer": "ipython2",
   "version": "2.7.13"
  }
 },
 "nbformat": 4,
 "nbformat_minor": 2
}
